{
 "metadata": {
  "language_info": {
   "codemirror_mode": {
    "name": "ipython",
    "version": 3
   },
   "file_extension": ".py",
   "mimetype": "text/x-python",
   "name": "python",
   "nbconvert_exporter": "python",
   "pygments_lexer": "ipython3",
   "version": "3.8.5-final"
  },
  "orig_nbformat": 2,
  "kernelspec": {
   "name": "python3",
   "display_name": "Python 3",
   "language": "python"
  }
 },
 "nbformat": 4,
 "nbformat_minor": 2,
 "cells": [
  {
   "cell_type": "code",
   "execution_count": 12,
   "metadata": {},
   "outputs": [],
   "source": [
    "def dist_nii(nifti):\n",
    "    import nibabel as nib\n",
    "    from statistics import mean\n",
    "\n",
    "    hdr = nib.load(nifti).header\n",
    "    \n",
    "    v_dim = hdr.get_zooms()[:3]\n",
    "    shape = hdr.get_data_shape()[:3]\n",
    "\n",
    "    mn_v_dim = mean(v_dim)\n",
    "\n",
    "    return(dmat)"
   ]
  },
  {
   "cell_type": "code",
   "execution_count": 14,
   "metadata": {},
   "outputs": [],
   "source": [
    "def dist_mat(mat):\n",
    "    import scipy.spatial.distance\n",
    "\n",
    "    dmat = scipy.spatial.distance.pdist(mat[:,:,1], metric='euclidean')\n",
    "\n",
    "    return(dmat)\n"
   ]
  },
  {
   "source": [
    "# Testing area"
   ],
   "cell_type": "markdown",
   "metadata": {}
  },
  {
   "cell_type": "code",
   "execution_count": 15,
   "metadata": {},
   "outputs": [
    {
     "output_type": "stream",
     "name": "stdout",
     "text": [
      "(192, 256, 256)\n"
     ]
    }
   ],
   "source": [
    "nifti = \"/mnt/d/Downloads/ds000031-download/sub-01/ses-003/func/sub-01_ses-003_task-rest_run-001_bold.nii.gz\"\n",
    "\n",
    "test=dist_nii(nifti)"
   ]
  },
  {
   "cell_type": "code",
   "execution_count": 19,
   "metadata": {},
   "outputs": [
    {
     "output_type": "execute_result",
     "data": {
      "text/plain": [
       "(18336,)"
      ]
     },
     "metadata": {},
     "execution_count": 19
    }
   ],
   "source": [
    "test.shape"
   ]
  }
 ]
}